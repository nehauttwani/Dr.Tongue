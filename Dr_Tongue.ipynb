{
  "nbformat": 4,
  "nbformat_minor": 2,
  "metadata": {
    "colab": {
      "name": "Dr_Tongue.ipynb",
      "provenance": [],
      "collapsed_sections": []
    },
    "kernelspec": {
      "name": "python3",
      "display_name": "Python 3.9.1 64-bit"
    },
    "language_info": {
      "name": "python",
      "version": "3.9.1",
      "mimetype": "text/x-python",
      "codemirror_mode": {
        "name": "ipython",
        "version": 3
      },
      "pygments_lexer": "ipython3",
      "nbconvert_exporter": "python",
      "file_extension": ".py"
    },
    "interpreter": {
      "hash": "6a7765c9f0364be1d57a5dbff6d1fa6b38f08f70e4d206383da4c71da559f402"
    }
  },
  "cells": [
    {
      "cell_type": "code",
      "execution_count": 1,
      "source": [
        "import matplotlib.pyplot as plt\r\n",
        "import seaborn as sns\r\n",
        "\r\n",
        "import keras\r\n",
        "from keras.models import Sequential\r\n",
        "from keras.layers import Dense, Conv2D , MaxPool2D , Flatten , Dropout \r\n",
        "from keras.preprocessing.image import ImageDataGenerator\r\n",
        "from keras.optimizers import Adam\r\n",
        "\r\n",
        "from sklearn.metrics import classification_report,confusion_matrix\r\n",
        "\r\n",
        "import tensorflow as tf\r\n",
        "\r\n",
        "import cv2\r\n",
        "import os\r\n",
        "\r\n",
        "import numpy as np\r\n",
        "\r\n",
        "import gradio as gr"
      ],
      "outputs": [
        {
          "output_type": "stream",
          "name": "stdout",
          "text": [
            "INFO:tensorflow:Enabling eager execution\n",
            "INFO:tensorflow:Enabling v2 tensorshape\n",
            "INFO:tensorflow:Enabling resource variables\n",
            "INFO:tensorflow:Enabling tensor equality\n",
            "INFO:tensorflow:Enabling control flow v2\n"
          ]
        }
      ],
      "metadata": {
        "id": "OzbLu5mFmqAP"
      }
    },
    {
      "cell_type": "code",
      "execution_count": 2,
      "source": [
        "labels = ['red', 'black', 'geographic', 'normal', 'yellow']\r\n",
        "img_size = 224\r\n",
        "def get_data(data_dir):\r\n",
        "    data = [] \r\n",
        "    for label in labels: \r\n",
        "        path = os.path.join(data_dir, label)\r\n",
        "        class_num = labels.index(label)\r\n",
        "        for img in os.listdir(path):\r\n",
        "            try:\r\n",
        "                img_arr = cv2.imread(os.path.join(path, img))[...,::-1] #convert BGR to RGB format\r\n",
        "                resized_arr = cv2.resize(img_arr, (img_size, img_size)) # Reshaping images to preferred size\r\n",
        "                data.append([resized_arr, class_num])\r\n",
        "            except Exception as e:\r\n",
        "                print(e)\r\n",
        "    return np.array(data)"
      ],
      "outputs": [],
      "metadata": {
        "id": "HO44eik8ms4p"
      }
    },
    {
      "cell_type": "code",
      "execution_count": 3,
      "source": [
        "train = get_data('C:/Users/NEHA UTTWANI/Downloads/data/train')\r\n",
        "val = get_data('C:/Users/NEHA UTTWANI/Downloads/data/test')"
      ],
      "outputs": [
        {
          "output_type": "stream",
          "name": "stderr",
          "text": [
            "<ipython-input-2-57acbdee1db2>:15: VisibleDeprecationWarning: Creating an ndarray from ragged nested sequences (which is a list-or-tuple of lists-or-tuples-or ndarrays with different lengths or shapes) is deprecated. If you meant to do this, you must specify 'dtype=object' when creating the ndarray\n",
            "  return np.array(data)\n"
          ]
        }
      ],
      "metadata": {
        "colab": {
          "base_uri": "https://localhost:8080/",
          "height": 305
        },
        "id": "-r2x_dYEnA3Y",
        "outputId": "4c125064-f28a-49b1-e712-00f26f55b071"
      }
    },
    {
      "cell_type": "code",
      "execution_count": 4,
      "source": [
        "x_train = []\r\n",
        "y_train = []\r\n",
        "x_val = []\r\n",
        "y_val = []\r\n",
        "\r\n",
        "for feature, label in train:\r\n",
        "  x_train.append(feature)\r\n",
        "  y_train.append(label)\r\n",
        "\r\n",
        "for feature, label in val:\r\n",
        "  x_val.append(feature)\r\n",
        "  y_val.append(label)\r\n",
        "\r\n",
        "# Normalize the data\r\n",
        "x_train = np.array(x_train) / 255\r\n",
        "x_val = np.array(x_val) / 255\r\n",
        "\r\n",
        "x_train.reshape(-1, img_size, img_size, 1)\r\n",
        "y_train = np.array(y_train)\r\n",
        "\r\n",
        "x_val.reshape(-1, img_size, img_size, 1)\r\n",
        "y_val = np.array(y_val)"
      ],
      "outputs": [],
      "metadata": {
        "id": "XqVK--ygsGh6",
        "colab": {
          "base_uri": "https://localhost:8080/",
          "height": 235
        },
        "outputId": "d122c32e-7d07-4d43-defe-3b7ffd97474e"
      }
    },
    {
      "cell_type": "code",
      "execution_count": 5,
      "source": [
        "datagen = ImageDataGenerator(\r\n",
        "        featurewise_center=False,  # set input mean to 0 over the dataset\r\n",
        "        samplewise_center=False,  # set each sample mean to 0\r\n",
        "        featurewise_std_normalization=False,  # divide inputs by std of the dataset\r\n",
        "        samplewise_std_normalization=False,  # divide each input by its std\r\n",
        "        zca_whitening=False,  # apply ZCA whitening\r\n",
        "        rotation_range = 30,  # randomly rotate images in the range (degrees, 0 to 180)\r\n",
        "        zoom_range = 0.2, # Randomly zoom image \r\n",
        "        width_shift_range=0.1,  # randomly shift images horizontally (fraction of total width)\r\n",
        "        height_shift_range=0.1,  # randomly shift images vertically (fraction of total height)\r\n",
        "        horizontal_flip = True,  # randomly flip images\r\n",
        "        vertical_flip=False)  # randomly flip images\r\n",
        "\r\n",
        "datagen.fit(x_train)        "
      ],
      "outputs": [],
      "metadata": {
        "id": "7rB8WNwhsRWU"
      }
    },
    {
      "cell_type": "code",
      "execution_count": 6,
      "source": [
        "model = Sequential()\r\n",
        "model.add(Conv2D(32,3,padding=\"same\", activation=\"relu\", input_shape=(224,224,3)))\r\n",
        "model.add(MaxPool2D())\r\n",
        "\r\n",
        "model.add(Conv2D(32, 3, padding=\"same\", activation=\"relu\"))\r\n",
        "model.add(MaxPool2D())\r\n",
        "\r\n",
        "model.add(Conv2D(64, 3, padding=\"same\", activation=\"relu\"))\r\n",
        "model.add(MaxPool2D())\r\n",
        "model.add(Dropout(0.4))\r\n",
        "\r\n",
        "model.add(Flatten())\r\n",
        "model.add(Dense(128,activation=\"relu\"))\r\n",
        "model.add(Dense(5, activation=\"softmax\"))\r\n",
        "\r\n",
        "model.summary()"
      ],
      "outputs": [
        {
          "output_type": "stream",
          "name": "stdout",
          "text": [
            "Model: \"sequential\"\n",
            "_________________________________________________________________\n",
            "Layer (type)                 Output Shape              Param #   \n",
            "=================================================================\n",
            "conv2d (Conv2D)              (None, 224, 224, 32)      896       \n",
            "_________________________________________________________________\n",
            "max_pooling2d (MaxPooling2D) (None, 112, 112, 32)      0         \n",
            "_________________________________________________________________\n",
            "conv2d_1 (Conv2D)            (None, 112, 112, 32)      9248      \n",
            "_________________________________________________________________\n",
            "max_pooling2d_1 (MaxPooling2 (None, 56, 56, 32)        0         \n",
            "_________________________________________________________________\n",
            "conv2d_2 (Conv2D)            (None, 56, 56, 64)        18496     \n",
            "_________________________________________________________________\n",
            "max_pooling2d_2 (MaxPooling2 (None, 28, 28, 64)        0         \n",
            "_________________________________________________________________\n",
            "dropout (Dropout)            (None, 28, 28, 64)        0         \n",
            "_________________________________________________________________\n",
            "flatten (Flatten)            (None, 50176)             0         \n",
            "_________________________________________________________________\n",
            "dense (Dense)                (None, 128)               6422656   \n",
            "_________________________________________________________________\n",
            "dense_1 (Dense)              (None, 5)                 645       \n",
            "=================================================================\n",
            "Total params: 6,451,941\n",
            "Trainable params: 6,451,941\n",
            "Non-trainable params: 0\n",
            "_________________________________________________________________\n"
          ]
        }
      ],
      "metadata": {
        "id": "4BbPuhQwsU5Y"
      }
    },
    {
      "cell_type": "code",
      "execution_count": 7,
      "source": [
        "opt = Adam(learning_rate=0.0005)\r\n",
        "model.compile(optimizer = opt , loss = tf.keras.losses.SparseCategoricalCrossentropy(from_logits=True) , metrics = ['accuracy'])"
      ],
      "outputs": [],
      "metadata": {
        "id": "5j2n06omsbmY"
      }
    },
    {
      "cell_type": "code",
      "execution_count": 8,
      "source": [
        "history = model.fit(x_train,y_train,epochs = 25 , validation_data = (x_val, y_val))"
      ],
      "outputs": [
        {
          "output_type": "stream",
          "name": "stdout",
          "text": [
            "Epoch 1/25\n"
          ]
        },
        {
          "output_type": "stream",
          "name": "stderr",
          "text": [
            "C:\\Users\\NEHA UTTWANI\\AppData\\Local\\Programs\\Python\\Python39\\lib\\site-packages\\tensorflow\\python\\keras\\backend.py:4929: UserWarning: \"`sparse_categorical_crossentropy` received `from_logits=True`, but the `output` argument was produced by a sigmoid or softmax activation and thus does not represent logits. Was this intended?\"\n",
            "  warnings.warn(\n"
          ]
        },
        {
          "output_type": "stream",
          "name": "stdout",
          "text": [
            "3/3 [==============================] - 29s 2s/step - loss: 1.8113 - accuracy: 0.1983 - val_loss: 1.6695 - val_accuracy: 0.2903\n",
            "Epoch 2/25\n",
            "3/3 [==============================] - 5s 1s/step - loss: 1.5943 - accuracy: 0.2434 - val_loss: 1.5796 - val_accuracy: 0.1935\n",
            "Epoch 3/25\n",
            "3/3 [==============================] - 6s 2s/step - loss: 1.5524 - accuracy: 0.2831 - val_loss: 1.5549 - val_accuracy: 0.2581\n",
            "Epoch 4/25\n",
            "3/3 [==============================] - 5s 2s/step - loss: 1.4722 - accuracy: 0.4221 - val_loss: 1.5475 - val_accuracy: 0.3226\n",
            "Epoch 5/25\n",
            "3/3 [==============================] - 5s 2s/step - loss: 1.4477 - accuracy: 0.4338 - val_loss: 1.4624 - val_accuracy: 0.4516\n",
            "Epoch 6/25\n",
            "3/3 [==============================] - 5s 1s/step - loss: 1.2988 - accuracy: 0.5587 - val_loss: 1.3624 - val_accuracy: 0.6129\n",
            "Epoch 7/25\n",
            "3/3 [==============================] - 5s 2s/step - loss: 1.1859 - accuracy: 0.7443 - val_loss: 1.2634 - val_accuracy: 0.6129\n",
            "Epoch 8/25\n",
            "3/3 [==============================] - 5s 2s/step - loss: 1.0360 - accuracy: 0.7719 - val_loss: 1.2176 - val_accuracy: 0.5806\n",
            "Epoch 9/25\n",
            "3/3 [==============================] - 5s 2s/step - loss: 0.8897 - accuracy: 0.8134 - val_loss: 1.0898 - val_accuracy: 0.5484\n",
            "Epoch 10/25\n",
            "3/3 [==============================] - 4s 1s/step - loss: 0.7389 - accuracy: 0.7819 - val_loss: 1.0675 - val_accuracy: 0.6452\n",
            "Epoch 11/25\n",
            "3/3 [==============================] - 4s 1s/step - loss: 0.6816 - accuracy: 0.7846 - val_loss: 0.9620 - val_accuracy: 0.6129\n",
            "Epoch 12/25\n",
            "3/3 [==============================] - 4s 1s/step - loss: 0.5272 - accuracy: 0.8694 - val_loss: 1.1091 - val_accuracy: 0.6774\n",
            "Epoch 13/25\n",
            "3/3 [==============================] - 4s 1s/step - loss: 0.3414 - accuracy: 0.9106 - val_loss: 0.9352 - val_accuracy: 0.6452\n",
            "Epoch 14/25\n",
            "3/3 [==============================] - 4s 1s/step - loss: 0.3078 - accuracy: 0.9386 - val_loss: 0.8429 - val_accuracy: 0.6774\n",
            "Epoch 15/25\n",
            "3/3 [==============================] - 5s 1s/step - loss: 0.2350 - accuracy: 0.9819 - val_loss: 1.0545 - val_accuracy: 0.6129\n",
            "Epoch 16/25\n",
            "3/3 [==============================] - 4s 1s/step - loss: 0.1727 - accuracy: 1.0000 - val_loss: 1.3615 - val_accuracy: 0.5484\n",
            "Epoch 17/25\n",
            "3/3 [==============================] - 4s 1s/step - loss: 0.2103 - accuracy: 0.9546 - val_loss: 1.3426 - val_accuracy: 0.5806\n",
            "Epoch 18/25\n",
            "3/3 [==============================] - 4s 1s/step - loss: 0.1216 - accuracy: 0.9901 - val_loss: 1.1544 - val_accuracy: 0.6129\n",
            "Epoch 19/25\n",
            "3/3 [==============================] - 4s 1s/step - loss: 0.0761 - accuracy: 1.0000 - val_loss: 1.0474 - val_accuracy: 0.6452\n",
            "Epoch 20/25\n",
            "3/3 [==============================] - 4s 1s/step - loss: 0.0787 - accuracy: 0.9901 - val_loss: 1.2024 - val_accuracy: 0.6129\n",
            "Epoch 21/25\n",
            "3/3 [==============================] - 4s 1s/step - loss: 0.0297 - accuracy: 1.0000 - val_loss: 1.4309 - val_accuracy: 0.6129\n",
            "Epoch 22/25\n",
            "3/3 [==============================] - 4s 1s/step - loss: 0.0342 - accuracy: 1.0000 - val_loss: 1.4663 - val_accuracy: 0.6129\n",
            "Epoch 23/25\n",
            "3/3 [==============================] - 4s 1s/step - loss: 0.0206 - accuracy: 1.0000 - val_loss: 1.4669 - val_accuracy: 0.6452\n",
            "Epoch 24/25\n",
            "3/3 [==============================] - 4s 1s/step - loss: 0.0242 - accuracy: 1.0000 - val_loss: 1.3432 - val_accuracy: 0.6452\n",
            "Epoch 25/25\n",
            "3/3 [==============================] - 5s 2s/step - loss: 0.0128 - accuracy: 1.0000 - val_loss: 1.3704 - val_accuracy: 0.6129\n"
          ]
        }
      ],
      "metadata": {
        "id": "Xa0Q4KaRsiMB"
      }
    },
    {
      "cell_type": "code",
      "execution_count": 9,
      "source": [
        "acc = history.history['accuracy']\r\n",
        "val_acc = history.history['val_accuracy']\r\n",
        "loss = history.history['loss']\r\n",
        "val_loss = history.history['val_loss']\r\n",
        "\r\n",
        "epochs_range = range(25)\r\n",
        "\r\n",
        "plt.figure(figsize=(15, 15))\r\n",
        "plt.subplot(2, 2, 1)\r\n",
        "plt.plot(epochs_range, acc, label='Training Accuracy')\r\n",
        "plt.plot(epochs_range, val_acc, label='Validation Accuracy')\r\n",
        "plt.legend(loc='lower right')\r\n",
        "plt.title('Training and Validation Accuracy')\r\n",
        "\r\n",
        "plt.subplot(2, 2, 2)\r\n",
        "plt.plot(epochs_range, loss, label='Training Loss')\r\n",
        "plt.plot(epochs_range, val_loss, label='Validation Loss')\r\n",
        "plt.legend(loc='upper right')\r\n",
        "plt.title('Training and Validation Loss')\r\n",
        "plt.show()"
      ],
      "outputs": [
        {
          "output_type": "display_data",
          "data": {
            "text/plain": [
              "<Figure size 1080x1080 with 2 Axes>"
            ],
            "image/png": "[encoded data removed]"
          },
          "metadata": {
            "needs_background": "light"
          }
        }
      ],
      "metadata": {
        "id": "fGJ0o8Fosr5a"
      }
    },
    {
      "cell_type": "code",
      "execution_count": 10,
      "source": [
        "predictions = model.predict_classes(x_val)\r\n",
        "predictions = predictions.reshape(1,-1)[0]\r\n",
        "print(classification_report(y_val, predictions, target_names = ['red (Class 0)','black (Class 1)', 'geographic (Class 2)', 'normal (Class 3)', 'yellow (Class 4)']))"
      ],
      "outputs": [
        {
          "output_type": "stream",
          "name": "stderr",
          "text": [
            "C:\\Users\\NEHA UTTWANI\\AppData\\Local\\Programs\\Python\\Python39\\lib\\site-packages\\keras\\engine\\sequential.py:450: UserWarning: `model.predict_classes()` is deprecated and will be removed after 2021-01-01. Please use instead:* `np.argmax(model.predict(x), axis=-1)`,   if your model does multi-class classification   (e.g. if it uses a `softmax` last-layer activation).* `(model.predict(x) > 0.5).astype(\"int32\")`,   if your model does binary classification   (e.g. if it uses a `sigmoid` last-layer activation).\n",
            "  warnings.warn('`model.predict_classes()` is deprecated and '\n"
          ]
        },
        {
          "output_type": "stream",
          "name": "stdout",
          "text": [
            "                      precision    recall  f1-score   support\n",
            "\n",
            "       red (Class 0)       0.60      0.86      0.71         7\n",
            "     black (Class 1)       0.75      0.67      0.71         9\n",
            "geographic (Class 2)       0.00      0.00      0.00         5\n",
            "    normal (Class 3)       0.50      0.40      0.44         5\n",
            "    yellow (Class 4)       0.62      1.00      0.77         5\n",
            "\n",
            "            accuracy                           0.61        31\n",
            "           macro avg       0.49      0.58      0.53        31\n",
            "        weighted avg       0.53      0.61      0.56        31\n",
            "\n"
          ]
        }
      ],
      "metadata": {
        "id": "jH-VxLOvuUqt"
      }
    },
    {
      "cell_type": "code",
      "execution_count": 11,
      "source": [
        "print(confusion_matrix(y_val, predictions))"
      ],
      "outputs": [
        {
          "output_type": "stream",
          "name": "stdout",
          "text": [
            "[[6 1 0 0 0]\n",
            " [0 6 0 0 3]\n",
            " [3 0 0 2 0]\n",
            " [1 1 1 2 0]\n",
            " [0 0 0 0 5]]\n"
          ]
        }
      ],
      "metadata": {
        "id": "EVgv-x-fWr7v"
      }
    },
    {
      "cell_type": "code",
      "execution_count": 12,
      "source": [
        "# import pickle\r\n",
        "# with open('drtongue_model.pkl', 'wb') as file:\r\n",
        "#   pickle.dump(model, file)"
      ],
      "outputs": [],
      "metadata": {
        "id": "rpWQbXEXuXGl"
      }
    },
    {
      "cell_type": "code",
      "execution_count": 13,
      "source": [
        "def predict_image(img):\r\n",
        "  img_4d=img.reshape(-1,224,224,3)\r\n",
        "  prediction=model.predict(img_4d)[0]\r\n",
        "  return {labels[i]: float(prediction[i]) for i in range(5)}\r\n",
        "\r\n",
        "image = gr.inputs.Image(shape=(224,224))\r\n",
        "label = gr.outputs.Label(num_top_classes=5)\r\n",
        "\r\n",
        "gr.Interface(fn=predict_image, inputs=image, outputs=label,interpretation='default').launch(debug='True', share=True)"
      ],
      "outputs": [
        {
          "output_type": "stream",
          "name": "stdout",
          "text": [
            "Running locally at: http://127.0.0.1:7861/\n",
            "To create a public link, set `share=True` in `launch()`.\n",
            "Interface loading below...\n"
          ]
        },
        {
          "output_type": "display_data",
          "data": {
            "text/plain": [
              "<IPython.lib.display.IFrame at 0x15bacfacd60>"
            ],
            "text/html": [
              "\n",
              "        <iframe\n",
              "            width=\"900\"\n",
              "            height=\"500\"\n",
              "            src=\"http://127.0.0.1:7861/\"\n",
              "            frameborder=\"0\"\n",
              "            allowfullscreen\n",
              "        ></iframe>\n",
              "        "
            ]
          },
          "metadata": {}
        }
      ],
      "metadata": {}
    }
  ]
}